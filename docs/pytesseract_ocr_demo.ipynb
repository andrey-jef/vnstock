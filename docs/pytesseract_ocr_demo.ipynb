{
 "cells": [
  {
   "cell_type": "markdown",
   "metadata": {},
   "source": [
    "## Google Colab"
   ]
  },
  {
   "cell_type": "code",
   "execution_count": null,
   "metadata": {},
   "outputs": [],
   "source": [
    "# Cài đặt môi trường mỗi lẫn chạy với Colab\n",
    "!sudo apt install tesseract-ocr\n",
    "!pip install pytesseract vnstock\n",
    "!sudo apt-get install tesseract-ocr-vie # Cài đặt gói ngôn ngữ tiếng Việt"
   ]
  },
  {
   "cell_type": "code",
   "execution_count": null,
   "metadata": {},
   "outputs": [],
   "source": [
    "from vnstock.ocr import *\n",
    "image_ocr(image_path=r'/content/chrome_runiB0dpB3.png', lang='vie', output_path=r'/content')"
   ]
  },
  {
   "cell_type": "markdown",
   "metadata": {},
   "source": [
    "## Windows"
   ]
  },
  {
   "cell_type": "code",
   "execution_count": null,
   "metadata": {},
   "outputs": [],
   "source": [
    "!pip install pytesseract Pillow vnstock # Cài đặt lần đầu các gói phụ thuộc"
   ]
  },
  {
   "cell_type": "code",
   "execution_count": 32,
   "metadata": {},
   "outputs": [
    {
     "data": {
      "text/plain": [
       "'® vnstock.site\\n\\nCập nhật phiên bản\\nvnstock v.0.2.6\\n\\ns Tích hợp API DNSE\\n\\ns Bồ sung đồ thị nến\\n\\ns Dữ liệu SSI trở lại\\n\\ns vnstock trong Google Sheets\\n'"
      ]
     },
     "execution_count": 32,
     "metadata": {},
     "output_type": "execute_result"
    }
   ],
   "source": [
    "from vnstock.ocr import *\n",
    "pytesseract.pytesseract.tesseract_cmd = r'C:\\Users\\mrthi\\AppData\\Local\\Programs\\Tesseract-OCR\\tesseract.exe'\n",
    "image_ocr(image_path=r'C:\\Users\\mrthi\\Downloads\\cap nhat phien ban vnstock v0.2.6.png', lang='vie', output_path=r'C:\\Users\\mrthi\\Downloads\\demo')"
   ]
  }
 ],
 "metadata": {
  "kernelspec": {
   "display_name": "Python 3",
   "language": "python",
   "name": "python3"
  },
  "language_info": {
   "codemirror_mode": {
    "name": "ipython",
    "version": 3
   },
   "file_extension": ".py",
   "mimetype": "text/x-python",
   "name": "python",
   "nbconvert_exporter": "python",
   "pygments_lexer": "ipython3",
   "version": "3.11.7"
  }
 },
 "nbformat": 4,
 "nbformat_minor": 2
}
